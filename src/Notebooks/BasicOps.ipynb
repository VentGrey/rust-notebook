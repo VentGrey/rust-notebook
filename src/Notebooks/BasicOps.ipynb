{
 "cells": [
  {
   "cell_type": "markdown",
   "metadata": {},
   "source": [
    "# Basic operations notebook\n",
    "\n",
    "In this notebook I'll explain the first exercise lesson, namely\n",
    "*\"Basic Operations\"*.\n"
   ]
  },
  {
   "cell_type": "markdown",
   "metadata": {},
   "source": [
    "## Making a main menu to select our exercises\n",
    "\n",
    "Making a function per exercise is not the best practice you can perform in Rust, in fact it is recommended to use the [rust's module system](https://doc.rust-lang.org/book/ch07-02-defining-modules-to-control-scope-and-privacy.html?highlight=modules#defining-modules-to-control-scope-and-privacy). \n",
    "\n",
    "This time I'm not going to use that and instead I'm going to make a single enormous Rust file (for now), but we still need a menu to test our small program center, we need to send a message and prompt the user in our main function:\n"
   ]
  },
  {
   "cell_type": "code",
   "execution_count": 2,
   "metadata": {},
   "outputs": [
    {
     "name": "stdout",
     "output_type": "stream",
     "text": [
      "Please select an exercise to execute:\n"
     ]
    }
   ],
   "source": [
    "println!(\"Please select an exercise to execute:\");"
   ]
  },
  {
   "cell_type": "markdown",
   "metadata": {},
   "source": [
    "Don't worry if you don't understand this piece of code, just paste it inside the `main` function after our prompt message, we will extend it after we finish an exercise. When it gets too full we will refactor it:"
   ]
  },
  {
   "cell_type": "code",
   "execution_count": null,
   "metadata": {},
   "outputs": [],
   "source": [
    " //-- Menu processing\n",
    "    let mut input = String::new();\n",
    "    io::stdin()\n",
    "        .read_line(&mut input)\n",
    "        .expect(\"Failed to read from stdin\");\n",
    "\n",
    "    let option: u32 = input.trim().parse().unwrap();\n",
    "\n",
    "    match option {\n",
    "        _ => {\n",
    "            println!(\"Option not available! Returning to main...\");\n",
    "            main();\n",
    "        },\n",
    "    }"
   ]
  },
  {
   "cell_type": "markdown",
   "metadata": {},
   "source": [
    "## First Exercise\n",
    "\n",
    "Description:\n",
    "\n",
    "Create a simple rust program that takes two numbers from the user standard input (console) and print their sum, difference, product and division.\n",
    "\n",
    "first of all I've created a new function to evaluate this exercise, I've called it `basic`.\n",
    "\n",
    "First we need to tell our user what do we want. In this case we need our user to input a number either integer or float:"
   ]
  },
  {
   "cell_type": "code",
   "execution_count": 2,
   "metadata": {},
   "outputs": [],
   "source": [
    "use std::io; // Needed to read user input"
   ]
  },
  {
   "cell_type": "code",
   "execution_count": 3,
   "metadata": {},
   "outputs": [
    {
     "name": "stdout",
     "output_type": "stream",
     "text": [
      "Please input a number\n"
     ]
    }
   ],
   "source": [
    "println!(\"Please input a number\");"
   ]
  },
  {
   "cell_type": "markdown",
   "metadata": {},
   "source": [
    "Now we need a variable to store the user input, in this case I'm going to name it `num1` since it will be the first number we are going to process.\n",
    "\n",
    "It is easier for us to read things as strings and then convert those to our convenient data type so we need to save our user input as a new string\n",
    "\n",
    "This variable will be changed by the user (or us) later, so we need to make it mutable:"
   ]
  },
  {
   "cell_type": "code",
   "execution_count": 4,
   "metadata": {},
   "outputs": [],
   "source": [
    "let mut num1 = String::new();"
   ]
  },
  {
   "cell_type": "markdown",
   "metadata": {},
   "source": [
    "Perfect, we allocated some space in our heap to save our string but we haven't read it yet. For that we need to use the standard input output library and handle any unexpected errors we could encounter, our `read_line()` function takes a mutable reference as an argument so we need to refer our String variable `num1` as this is the value we wish to read, finally we will use expect to handly any input/output errors we may encounter:"
   ]
  },
  {
   "cell_type": "code",
   "execution_count": 2,
   "metadata": {},
   "outputs": [
    {
     "ename": "Error",
     "evalue": "failed to resolve: use of undeclared type or module `io`",
     "output_type": "error",
     "traceback": [
      "io::stdin()",
      "\u001b[91m^^\u001b[0m \u001b[94muse of undeclared type or module `io`\u001b[0m",
      "failed to resolve: use of undeclared type or module `io`"
     ]
    },
    {
     "ename": "Error",
     "evalue": "cannot find value `input` in this scope",
     "output_type": "error",
     "traceback": [
      "    .read_line(&mut input)",
      "\u001b[91m                    ^^^^^\u001b[0m \u001b[94mnot found in this scope\u001b[0m",
      "cannot find value `input` in this scope"
     ]
    }
   ],
   "source": [
    "io::stdin()\n",
    "    .read_line(&mut num1)\n",
    "    .expect(\"Failed to read from stdin\");"
   ]
  },
  {
   "cell_type": "markdown",
   "metadata": {},
   "source": [
    "Now we need to convert the user's string to a number, for that we need to overwrite our variable and type it to a `f64` data type, trim any spaces or \"\\n\" chars the user inputs and finally parse the variable to our wanted type.\n",
    "\n",
    "In the same line we have to check if the user input was correct, so at the same time we have to `match` those operations and throw a result, if the conversion went all-righto we return a number and save it in our `num1` variable, if any error is encountered the program will panic and exit:"
   ]
  },
  {
   "cell_type": "code",
   "execution_count": null,
   "metadata": {},
   "outputs": [],
   "source": [
    "    let num1: f64 = match num1.trim().parse() {\n",
    "        Ok(num) => num,\n",
    "        Err(_) => panic!(\"Not a number!\"),\n",
    "    };"
   ]
  },
  {
   "cell_type": "markdown",
   "metadata": {},
   "source": [
    "We need to do the same for our second number:"
   ]
  },
  {
   "cell_type": "code",
   "execution_count": null,
   "metadata": {},
   "outputs": [],
   "source": [
    "    println!(\"Please input another number\");\n",
    "    let mut num2 = String::new();\n",
    "    io::stdin()\n",
    "        .read_line(&mut num2)\n",
    "        .expect(\"Could not read from stdin\");\n",
    "\n",
    "    let num2: f64 = match num2.trim().parse() {\n",
    "        Ok(num) => num,\n",
    "        Err(_) => panic!(\"Not a number!\"),\n",
    "    };"
   ]
  },
  {
   "cell_type": "markdown",
   "metadata": {},
   "source": [
    "Rust shares some similarities with other languages in it's printing macros, so we can operate directly inside them:"
   ]
  },
  {
   "cell_type": "code",
   "execution_count": null,
   "metadata": {},
   "outputs": [],
   "source": [
    "    println!(\"The diff of the numbers equals to: {}\", num1 - num2);\n",
    "    println!(\"The product of the numbers equals to: {}\", num1 * num2);\n",
    "    println!(\"The division of the numbers equals to: {}\", num1 / num2);"
   ]
  },
  {
   "cell_type": "markdown",
   "metadata": {},
   "source": [
    "Finally we have to check if our program works by running\n",
    "`cargo run` in our parent directory.\n",
    "\n",
    "The whole source code can be found on the `basic()` function inside the `main.rs` file or you can run it here:"
   ]
  },
  {
   "cell_type": "code",
   "execution_count": 7,
   "metadata": {},
   "outputs": [],
   "source": [
    "use std::io;\n",
    "\n",
    "pub fn main() {\n",
    "    println!(\"Please input a first number\");\n",
    "    let mut num1 = String::new();\n",
    "    io::stdin()\n",
    "        .read_line(&mut num1)\n",
    "        .expect(\"Could not read from stdin\");\n",
    "\n",
    "    let num1: f64 = match num1.trim().parse() {\n",
    "        Ok(num) => num,\n",
    "        Err(_) => panic!(\"Not a number!\"),\n",
    "    };\n",
    "\n",
    "    println!(\"Please input another number\");\n",
    "    let mut num2 = String::new();\n",
    "    io::stdin()\n",
    "        .read_line(&mut num2)\n",
    "        .expect(\"Could not read from stdin\");\n",
    "\n",
    "    let num2: f64 = match num2.trim().parse() {\n",
    "        Ok(num) => num,\n",
    "        Err(_) => panic!(\"Not a number!\"),\n",
    "    };\n",
    "\n",
    "    println!(\"The sum of the numbers equals to: {}\", num1 + num2);\n",
    "    println!(\"The diff of the numbers equals to: {}\", num1 - num2);\n",
    "    println!(\"The product of the numbers equals to: {}\", num1 * num2);\n",
    "    println!(\"The division of the numbers equals to: {}\", num1 / num2);\n",
    "}"
   ]
  },
  {
   "cell_type": "markdown",
   "metadata": {},
   "source": [
    "### Extending our menu\n",
    "\n",
    "Perfect! We've completed our first exercise successfully! :D Now we need to add our function to our main menu:"
   ]
  },
  {
   "cell_type": "code",
   "execution_count": null,
   "metadata": {},
   "outputs": [],
   "source": [
    "    //-- MENU\n",
    "    println!(\"Please select an exercise to execute:\");\n",
    "    println!(\"1 - Basic operations\");\n",
    "\n",
    "    //-- Menu processing\n",
    "    let mut input = String::new();\n",
    "    io::stdin()\n",
    "        .read_line(&mut input)\n",
    "        .expect(\"Failed to read from stdin\");\n",
    "\n",
    "    let option: u32 = input.trim().parse().unwrap();\n",
    "\n",
    "    match option {\n",
    "        1 => basic(),\n",
    "        _ => {\n",
    "            println!(\"Option not available! Returning to main...\");\n",
    "            main();\n",
    "        },\n",
    "    }"
   ]
  },
  {
   "cell_type": "markdown",
   "metadata": {},
   "source": [
    "## Second exercise\n",
    "\n",
    "Description:\n",
    "\n",
    "Given a circle's radius make a program that prompts the user to input a radius value, then process that value to print the circle's area and perimeter.\n",
    "\n",
    "This program requires us to add the PI constant to our program after all, who keeps defining PI these days?\n",
    "\n",
    "We have to follow the next formula:\n",
    "\n",
    "* Circle Area\n",
    "\n",
    "$ pi * r² $\n",
    "\n",
    "* Circle Perimeter\n",
    "\n",
    "$ pi * 2(r) $"
   ]
  },
  {
   "cell_type": "code",
   "execution_count": null,
   "metadata": {},
   "outputs": [],
   "source": [
    "use std::f64::consts::PI;"
   ]
  },
  {
   "cell_type": "markdown",
   "metadata": {},
   "source": [
    "The rest of the program is pretty much the same as the first program we made, but in this case we are just parsing one variable from input. I just wanted to introduce you to the PI constant.\n",
    "\n",
    "> std consts can vary, depending on the data type, in this case we \n",
    "> are using a f64 type, replace according to your type.\n",
    "\n",
    "After importing our `std::f64::consts::PI` we can invoke the constant \"just like that\". So after processing our user input like we did in our previous example we can print our results, the complete source code for the function is here:"
   ]
  },
  {
   "cell_type": "code",
   "execution_count": null,
   "metadata": {},
   "outputs": [],
   "source": [
    "fn circle() {\n",
    "    println!(\"Please input your circle's radius\");\n",
    "    let mut rad = String::new();\n",
    "    io::stdin()\n",
    "        .read_line(&mut rad)\n",
    "        .expect(\"Could not read from stdin\");\n",
    "\n",
    "    let rad: f64 = match rad.trim().parse() {\n",
    "        Ok(num) => num,\n",
    "        Err(_) => panic!(\"Not a number!\"),\n",
    "    };\n",
    "\n",
    "    println!(\"The area of the circle is equal to: {}\", rad * PI * PI);\n",
    "    println!(\"The perimeter of the circle is equal to: {}\", (2.0 * rad) * PI);\n",
    "}"
   ]
  },
  {
   "cell_type": "markdown",
   "metadata": {},
   "source": [
    "### Extending our menu\n",
    "\n",
    "Our second exercise is now ready to execute. Let's add it to our menu:"
   ]
  },
  {
   "cell_type": "code",
   "execution_count": null,
   "metadata": {},
   "outputs": [],
   "source": [
    "    //-- MENU\n",
    "    println!(\"Please select an exercise to execute:\");\n",
    "    println!(\"1 - Basic operations\");\n",
    "    println!(\"2 - Circle\");\n",
    "\n",
    "    //-- Menu processing\n",
    "    let mut input = String::new();\n",
    "    io::stdin()\n",
    "        .read_line(&mut input)\n",
    "        .expect(\"Failed to read from stdin\");\n",
    "\n",
    "    let option: u32 = input.trim().parse().unwrap();\n",
    "\n",
    "    match option {\n",
    "        1 => basic(),\n",
    "        2 => circle(),\n",
    "        _ => {\n",
    "            println!(\"Option not available! Returning to main...\");\n",
    "            main();\n",
    "        },\n",
    "    }"
   ]
  },
  {
   "cell_type": "markdown",
   "metadata": {},
   "source": [
    "## Third exercise\n",
    "\n",
    "Description:\n",
    "Construct a program that takes user input expressed in USD and then converts is into MXN\n",
    "\n",
    "The currency value always change so we are going to simulate the \"fluctuation\" using a random number every time we run our program.\n",
    "\n",
    "USD - MXN relationship is around 17 - 20MXN\n",
    "\n",
    "Now we are using an extern crate in this project now, so we need to edit our `Cargo.toml` and add the `rand` crate in it. It should look like this:\n",
    "\n",
    "```toml\n",
    "[package]\n",
    "name = \"easy-rust\"\n",
    "version = \"0.1.0\"\n",
    "authors = [\"VentGrey <VentGrey@gmail.com>\"]\n",
    "edition = \"2018\"\n",
    "\n",
    "[dependencies]\n",
    "rand = \"0.6.5\"\n",
    "```\n",
    "\n",
    "In early Rust versions (before Rust 2018) we had to add the `extern crate` keywords to use the crates we wanted, fortunately in Rust 2018 we can avoid this and just \"include\" the modules in our file:"
   ]
  },
  {
   "cell_type": "code",
   "execution_count": null,
   "metadata": {},
   "outputs": [],
   "source": [
    "use rand::Rng;"
   ]
  },
  {
   "cell_type": "markdown",
   "metadata": {},
   "source": [
    "And we need to create our new function:"
   ]
  },
  {
   "cell_type": "code",
   "execution_count": null,
   "metadata": {},
   "outputs": [],
   "source": [
    "fn exchange() {...}"
   ]
  },
  {
   "cell_type": "markdown",
   "metadata": {},
   "source": [
    "Again, we need to propmt our user with the same method, but first, we need to generate our random numbers:"
   ]
  },
  {
   "cell_type": "code",
   "execution_count": null,
   "metadata": {},
   "outputs": [],
   "source": [
    "    // Generate the random \"dollar\" value\n",
    "    let mut rng = rand::thread_rng();\n",
    "    let d_value = rng.gen_range(17.0, 20.0);"
   ]
  },
  {
   "cell_type": "markdown",
   "metadata": {},
   "source": [
    "The following is just basic code processing, we just multiply our dollar value and then multiply it by our MXN:"
   ]
  },
  {
   "cell_type": "code",
   "execution_count": null,
   "metadata": {},
   "outputs": [],
   "source": [
    "    println!(\"Please input the amount of USD to convert\");    \n",
    "    let mut mxn = String::new();\n",
    "    io::stdin()\n",
    "        .read_line(&mut mxn)\n",
    "        .expect(\"Failed to read from stdin\");\n",
    "\n",
    "    let mxn: f64 = match mxn.trim().parse() {\n",
    "        Ok(num) => num,\n",
    "        Err(_) => panic!(\"Not a number!\"),\n",
    "    };\n",
    "\n",
    "    println!(\"You possess {} mxn\", mxn * d_value);"
   ]
  },
  {
   "cell_type": "markdown",
   "metadata": {},
   "source": [
    "The complete source code is not much different:"
   ]
  },
  {
   "cell_type": "code",
   "execution_count": null,
   "metadata": {},
   "outputs": [],
   "source": [
    "fn exchange() {\n",
    "    // Generate the random \"dollar\" value\n",
    "    let mut rng = rand::thread_rng();\n",
    "    let d_value = rng.gen_range(17.0, 20.0);\n",
    "\n",
    "    println!(\"Please input the amount of USD to convert\");\n",
    "    let mut mxn = String::new();\n",
    "    io::stdin()\n",
    "        .read_line(&mut mxn)\n",
    "        .expect(\"Failed to read from stdin\");\n",
    "\n",
    "    let mxn: f64 = match mxn.trim().parse() {\n",
    "        Ok(num) => num,\n",
    "        Err(_) => panic!(\"Not a number!\"),\n",
    "    };\n",
    "\n",
    "    println!(\"You possess {} mxn\", mxn * d_value);\n",
    "}\n"
   ]
  },
  {
   "cell_type": "markdown",
   "metadata": {},
   "source": [
    "### Extending our menu\n",
    "\n",
    "These exercises are just for basic aritmethic operations, nothing interesting will happen in them (for now) so let's just add this one to our menu:"
   ]
  },
  {
   "cell_type": "code",
   "execution_count": null,
   "metadata": {},
   "outputs": [],
   "source": [
    "    //-- MENU\n",
    "    println!(\"Please select an exercise to execute:\");\n",
    "    println!(\"1 - Basic operations\");\n",
    "    println!(\"2 - Circle\");\n",
    "    println!(\"3 - Currency exchange\");\n",
    "\n",
    "    //-- Menu processing\n",
    "    let mut input = String::new();\n",
    "    io::stdin()\n",
    "        .read_line(&mut input)\n",
    "        .expect(\"Failed to read from stdin\");\n",
    "\n",
    "    let option: u32 = input.trim().parse().unwrap();\n",
    "\n",
    "    match option {\n",
    "        1 => basic(),\n",
    "        2 => circle(),\n",
    "        3 => exchange(),\n",
    "        _ => {\n",
    "            println!(\"Option not available! Returning to main...\");\n",
    "            main();\n",
    "        },\n",
    "    }"
   ]
  },
  {
   "cell_type": "markdown",
   "metadata": {},
   "source": [
    "## Fourth Exercise\n",
    "\n",
    "Description:\n",
    "\n",
    "A farmer needs only knows how to measure acres, please, make a program that helps him convert acres to hectares and then print the result.\n",
    "\n",
    "An acre is equal to 0.404686 hectares.\n",
    "\n",
    "in this case we need to use constants if we know the value of something obvious:\n"
   ]
  },
  {
   "cell_type": "code",
   "execution_count": null,
   "metadata": {},
   "outputs": [],
   "source": [
    "const HECT_VAL:f64 = 0.404686;"
   ]
  },
  {
   "cell_type": "markdown",
   "metadata": {},
   "source": [
    "After this we just need to process the user input and make a simple product operation:"
   ]
  },
  {
   "cell_type": "code",
   "execution_count": null,
   "metadata": {},
   "outputs": [],
   "source": [
    "println!(\"You possess {:.2} hectares\", acres * HECT_VAL);"
   ]
  },
  {
   "cell_type": "markdown",
   "metadata": {},
   "source": [
    "The complete code is in here:"
   ]
  },
  {
   "cell_type": "code",
   "execution_count": null,
   "metadata": {},
   "outputs": [],
   "source": [
    "fn measurements() {\n",
    "    const HECT_VAL:f64 = 0.404686;\n",
    "\n",
    "    let mut acres = String::new();\n",
    "    println!(\"Input the number of acres you wish to convert\");\n",
    "    io::stdin()\n",
    "        .read_line(&mut acres)\n",
    "        .expect(\"Failed to read from stdin\");\n",
    "\n",
    "    let acres: f64 = match acres.trim().parse() {\n",
    "        Ok(num) => num,\n",
    "        Err(_) => panic!(\"Not a number!\"),\n",
    "    };\n",
    "\n",
    "    println!(\"You possess {:.2} hectares\", acres * HECT_VAL);\n",
    "}"
   ]
  },
  {
   "cell_type": "markdown",
   "metadata": {},
   "source": [
    "### Extending our menu\n",
    "\n",
    "Time to extend our menu to run another super function! :D"
   ]
  },
  {
   "cell_type": "code",
   "execution_count": null,
   "metadata": {},
   "outputs": [],
   "source": [
    "    //-- MENU\n",
    "    println!(\"Please select an exercise to execute:\");\n",
    "    println!(\"1 - Basic operations\");\n",
    "    println!(\"2 - Circle\");\n",
    "    println!(\"3 - Currency exchange\");\n",
    "\n",
    "    //-- Menu processing\n",
    "    let mut input = String::new();\n",
    "    io::stdin()\n",
    "        .read_line(&mut input)\n",
    "        .expect(\"Failed to read from stdin\");\n",
    "\n",
    "    let option: u32 = input.trim().parse().unwrap();\n",
    "\n",
    "    match option {\n",
    "        1 => basic(),\n",
    "        2 => circle(),\n",
    "        3 => exchange(),\n",
    "        4 => measurements(),\n",
    "        _ => {\n",
    "            println!(\"Option not available! Returning to main...\");\n",
    "            main();\n",
    "        },\n",
    "    }"
   ]
  },
  {
   "cell_type": "markdown",
   "metadata": {},
   "source": [
    "## EXERCISE TIME\n",
    "Ok, this is turning a little boring, and our exercises won't change for a bit. So how about this? I'll give you some exercises and you can try to do them on your own, don't worry if you get stuck, I you can always consult them in the included `main.rs` file and in the `solutions/` directory.\n",
    "\n",
    "### Exercises\n",
    "\n",
    "#### Bank interest\n",
    "Someone invests money in it's favourite bank and he gets a special monthly interest. Help him with a program that calculates his amount of money by the end of the current month.\n",
    "\n",
    "You'll need two inputs this time, one for the amount of money and one for the interest rate you wish to calculate, please make sure that you calculate the interest rate with floating point numbers smaller than zero.\n",
    "\n",
    "####  Finance\n",
    "You want to buy a vehicle and the XGW car agency offers you this deal:\n",
    "\n",
    "Given the amount of money your desired vehicle costs you'll have to pay 35% hitch and the rest of the money can be payed in 18 months maximum.\n",
    "\n",
    "Use your rust skills to make a program that helps you know how much money do you need to pay the hitch and your montly payments.\n",
    "\n",
    "#### Interest Finance\n",
    "Remember when you wanted that new car? XGW comes with a new offer for you if you thought 18 months was quite a short time to pay a whole car.\n",
    "\n",
    "Now you can get your car with payments in 36 months with a hitch of 35% but after you pay the hitch every montly payment will receive a 12% interest rate.\n",
    "\n",
    "If you decide to take this offer use the power of rust to make a program that helps you calculate your hitch and your montly payments with 12% extra for those darn interests.\n",
    "\n",
    "#### Cone\n",
    "You are eating ice cream and your clumsy hands suddenly make you drop it. In your depressed state you wonder: \"how can I calculate the cone's areas and volume?\" Now you don't have ice cream but you have an assignment, write a rust program that given the radius, the generatrix and the height of a cone, calculate and print the area of the base, the lateral area, the total area and its volume.\n",
    "\n",
    "Knowing that:\n",
    "\n",
    "The base area is:\n",
    "$ BA = \\pi * radius ^ 2 $\n",
    "\n",
    "Lateral area is:\n",
    "$ LA = \\pi * radius * generatix $\n",
    "\n",
    "Total area is:\n",
    "$ TA = BA + LA $\n",
    "\n",
    "Also volume is calculated with the following formula:\n",
    "\n",
    "$ Vol = \\frac{1}{3} * BA * height $\n",
    "\n",
    "#### Sphere\n",
    "\n",
    "Now you wish to calculate the area and volume of the ice cream sphere you just dropped. So make a program that given a sphere's radius, calculate the sphere's area and volume knowing the following formulas:\n",
    "\n",
    "The area is calculated this way:\n",
    "$ Area = 4 * \\pi * radius^2 $\n",
    "\n",
    "Volume is calculated this way:\n",
    "$ Vol = \\frac{4}{3} * \\pi * rad ^ 3 $\n",
    "#### Hexaedron\n",
    "\n",
    "Create a program that gives as data the side of a hexahedron or cube, calculate the area of the base, the lateral area, the total area and the volume.\n",
    "\n",
    "Base area:\n",
    "$ BA = S^2 (s being side) $\n",
    "\n",
    "Lateral area:\n",
    "$ LA = 4 * L^2 $\n",
    "\n",
    "Total area:\n",
    "$ TA = 6 * L^2 $\n",
    "\n",
    "Volume:\n",
    "\n",
    "$ V = L^3 $\n"
   ]
  }
 ],
 "metadata": {
  "kernelspec": {
   "display_name": "Rust",
   "language": "rust",
   "name": "rust"
  },
  "language_info": {
   "codemirror_mode": "rust",
   "file_extension": ".rs",
   "mimetype": "text/rust",
   "name": "Rust",
   "pygment_lexer": "rust",
   "version": ""
  },
  "toc": {
   "base_numbering": 1,
   "nav_menu": {
    "height": "202px",
    "width": "255px"
   },
   "number_sections": true,
   "sideBar": true,
   "skip_h1_title": false,
   "title_cell": "Table of Contents",
   "title_sidebar": "Contents",
   "toc_cell": false,
   "toc_position": {
    "height": "calc(100% - 180px)",
    "left": "10px",
    "top": "150px",
    "width": "261.594px"
   },
   "toc_section_display": true,
   "toc_window_display": false
  }
 },
 "nbformat": 4,
 "nbformat_minor": 2
}
